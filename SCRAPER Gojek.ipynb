{
 "cells": [
  {
   "cell_type": "code",
   "execution_count": 1,
   "metadata": {},
   "outputs": [
    {
     "name": "stdout",
     "output_type": "stream",
     "text": [
      "Fetched 199 reviews so far\n",
      "Fetched 995 reviews so far\n"
     ]
    }
   ],
   "source": [
    "from google_play_scraper import Sort, reviews\n",
    "import pandas as pd\n",
    "\n",
    "# Initialize an empty list to store all reviews\n",
    "all_reviews = []\n",
    "\n",
    "# Set the app ID, language, country, and initial count\n",
    "app_id = 'com.gojek.app'\n",
    "lang = 'id'\n",
    "country = 'id'\n",
    "count = 0\n",
    "\n",
    "# Loop to fetch reviews in batches\n",
    "while count < 500:\n",
    "    # Fetch the reviews\n",
    "    reviews_batch, _ = reviews(\n",
    "        app_id,\n",
    "        lang=lang,\n",
    "        country=country,\n",
    "        sort=Sort.NEWEST,  # Change sorting as needed\n",
    "        count=1000,  # Maximum number of reviews per batch\n",
    "        filter_score_with=None  # To get all reviews irrespective of their rating\n",
    "    )\n",
    "\n",
    "    # Append the current batch of reviews to the all_reviews list\n",
    "    all_reviews.extend(reviews_batch)\n",
    "    \n",
    "    # Update the count\n",
    "    count += len(reviews_batch)\n",
    "    \n",
    "    # Break the loop if no more reviews are fetched\n",
    "    if len(reviews_batch) == 0:\n",
    "        break\n",
    "\n",
    "    print(f\"Fetched {count} reviews so far\")\n",
    "\n",
    "# Convert the list of reviews to a DataFrame\n",
    "app_reviews_df = pd.DataFrame(all_reviews)\n",
    "\n",
    "# Save the DataFrame to a CSV file\n",
    "app_reviews_df.to_csv('gojek_reviews_1jt.csv', index=None, header=True)"
   ]
  }
 ],
 "metadata": {
  "kernelspec": {
   "display_name": "Python 3",
   "language": "python",
   "name": "python3"
  },
  "language_info": {
   "codemirror_mode": {
    "name": "ipython",
    "version": 3
   },
   "file_extension": ".py",
   "mimetype": "text/x-python",
   "name": "python",
   "nbconvert_exporter": "python",
   "pygments_lexer": "ipython3",
   "version": "3.11.1"
  }
 },
 "nbformat": 4,
 "nbformat_minor": 2
}
